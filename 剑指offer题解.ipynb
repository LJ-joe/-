{
 "cells": [
  {
   "cell_type": "markdown",
   "metadata": {},
   "source": [
    "## 1. 二维数组中查找\n",
    "在一个二维数组中（每个一维数组的长度相同），每一行都按照从左到右递增的顺序排序，每一列都按照从上到下递增的顺序排序。请完成一个函数，输入这样的一个二维数组和一个整数，判断数组中是否含有该整数。"
   ]
  },
  {
   "cell_type": "code",
   "execution_count": 3,
   "metadata": {},
   "outputs": [
    {
     "name": "stdout",
     "output_type": "stream",
     "text": [
      "True\n"
     ]
    }
   ],
   "source": [
    "# 方法一： 循环迭代查找，不是最优  时间复杂度是O(n^2)\n",
    "# -*- coding:utf-8 -*-\n",
    "class Solution:\n",
    "    # array 二维列表\n",
    "    def Find(self, target, array):\n",
    "        # write code here\n",
    "        if not array:  # array为空的情况\n",
    "            return\n",
    "        row = len(array)\n",
    "        col = len(array[0])\n",
    "        for i in range(row):\n",
    "            for j in range(col):\n",
    "                if target == array[i][j]:\n",
    "                    return True\n",
    "        return False\n",
    "    \n",
    "if __name__ == '__main__':\n",
    "    lyst = [[1,2,8,9],\n",
    "           [2,4,9,12],\n",
    "           [4,7,10,13],\n",
    "           [6,8,11,15]]\n",
    "    # lis1 = []\n",
    "    a = Solution()\n",
    "    \n",
    "    print(a.Find(9,lyst))"
   ]
  },
  {
   "cell_type": "markdown",
   "metadata": {},
   "source": [
    "### 方法二：上述方法的时间复杂度是O(n^2)，最优化的方式是从左下或者右上开始搜索\n",
    "从右上开始搜索，如果数组中的数比该数要大，那么想左移动一位，如果数组中的数比该数小，向下移动一位，\n",
    "因为数组本身是从左到右依次增大，从上到下一次增大"
   ]
  },
  {
   "cell_type": "code",
   "execution_count": 4,
   "metadata": {},
   "outputs": [
    {
     "name": "stdout",
     "output_type": "stream",
     "text": [
      "True\n"
     ]
    }
   ],
   "source": [
    "class Solution:\n",
    "    # array 二维列表\n",
    "    def Find(self,target,array):\n",
    "        if not array :\n",
    "            return\n",
    "        row = len(array)\n",
    "        col = len(array[0])\n",
    "        i = 0\n",
    "        j = col - 1\n",
    "        while i < row and j >= 0:\n",
    "            if target < array[i][j]:\n",
    "                j -= 1\n",
    "            elif target > array[i][j]:\n",
    "                i += 1\n",
    "            else:\n",
    "                return True\n",
    "        return False\n",
    "    \n",
    "if __name__ == '__main__':\n",
    "    lyst = [[1,2,8,9],\n",
    "           [2,4,9,12],\n",
    "           [4,7,10,13],\n",
    "           [6,8,11,15]]\n",
    "    # lis1 = []\n",
    "    a = Solution()\n",
    "    \n",
    "    print(a.Find(9,lyst))"
   ]
  },
  {
   "cell_type": "markdown",
   "metadata": {},
   "source": [
    "## 2 替换空格\n",
    "请实现一个函数，将一个字符串中的每个空格替换成“%20”。例如，当字符串为We Are Happy.则经过替换之后的字符串为We%20Are%20Happy。"
   ]
  },
  {
   "cell_type": "code",
   "execution_count": null,
   "metadata": {},
   "outputs": [],
   "source": [
    "# -*- coding:utf-8 -*-\n",
    "class Solution:\n",
    "    # s 源字符串\n",
    "    def replaceSpace(self, s):\n",
    "        # write code here\n",
    "        s.replace(\" \",\"%20\")\n",
    "        return s"
   ]
  },
  {
   "cell_type": "code",
   "execution_count": null,
   "metadata": {},
   "outputs": [],
   "source": []
  },
  {
   "cell_type": "markdown",
   "metadata": {},
   "source": [
    "## 3 从尾到头打印链表\n",
    "输入一个链表，按链表值从尾到头的顺序返回一个ArrayList"
   ]
  },
  {
   "cell_type": "markdown",
   "metadata": {},
   "source": [
    "**方法一：先顺序提取成列表，再进行列表翻转**"
   ]
  },
  {
   "cell_type": "code",
   "execution_count": null,
   "metadata": {},
   "outputs": [],
   "source": [
    "# -*- coding:utf-8 -*-\n",
    "# class ListNode:\n",
    "#     def __init__(self, x):\n",
    "#         self.val = x\n",
    "#         self.next = None\n",
    "\n",
    "class Solution:\n",
    "    # 返回从尾部到头部的列表值序列，例如[1,2,3]\n",
    "    def printListFromTailToHead(self, listNode):\n",
    "        # write code here\n",
    "        if not listNode:\n",
    "            return []\n",
    "        lyst  = []\n",
    "        while listNode:\n",
    "            lyst.append(listNode.val)\n",
    "            listNode = listNode.next\n",
    "        lyst.reverse()  # list.reverse()该方法没有返回值 \n",
    "        return lyst"
   ]
  },
  {
   "cell_type": "code",
   "execution_count": 11,
   "metadata": {},
   "outputs": [
    {
     "data": {
      "text/plain": [
       "[3, 2, 1]"
      ]
     },
     "execution_count": 11,
     "metadata": {},
     "output_type": "execute_result"
    }
   ],
   "source": [
    "a = [1,2,3]\n",
    "a.reverse()  # 列表翻转，不能用于字符串\n",
    "a"
   ]
  },
  {
   "cell_type": "code",
   "execution_count": 19,
   "metadata": {},
   "outputs": [
    {
     "name": "stdout",
     "output_type": "stream",
     "text": [
      "[3, 2, 1]\n",
      "[1, 2, 3]\n"
     ]
    },
    {
     "data": {
      "text/plain": [
       "'321'"
      ]
     },
     "execution_count": 19,
     "metadata": {},
     "output_type": "execute_result"
    }
   ],
   "source": [
    "a = [1,2,3]\n",
    "print(a[::-1])  # 列表翻转\n",
    "print(a)\n",
    "b = \"123\"\n",
    "b[::-1]   # 字符串翻转"
   ]
  },
  {
   "cell_type": "markdown",
   "metadata": {},
   "source": [
    "**方法二：使用list.insert()直接插入头部**"
   ]
  },
  {
   "cell_type": "code",
   "execution_count": null,
   "metadata": {},
   "outputs": [],
   "source": [
    "class Solution:\n",
    "    # 返回从尾部到头部的列表值序列，例如[1,2,3]\n",
    "    def printListFromTailToHead(self, listNode):\n",
    "        # write code here\n",
    "        if not listNode:\n",
    "            return []\n",
    "        lyst = []\n",
    "        while listNode:\n",
    "            lyst.insert(0,listNode.val)\n",
    "            listNode = listNode.next\n",
    "        return lyst"
   ]
  },
  {
   "cell_type": "markdown",
   "metadata": {},
   "source": [
    "## 4. 重建二叉树\n",
    "输入某二叉树的前序遍历和中序遍历的结果，请重建出该二叉树。假设输入的前序遍历和中序遍历的结果中都不含重复的数字。例如输入前序遍历序列{1,2,4,7,3,5,6,8}和中序遍历序列{4,7,2,1,5,3,8,6}，则重建二叉树并返回。"
   ]
  },
  {
   "cell_type": "code",
   "execution_count": null,
   "metadata": {},
   "outputs": [],
   "source": [
    "# -*- coding:utf-8 -*-\n",
    "# class TreeNode:\n",
    "#     def __init__(self, x):\n",
    "#         self.val = x\n",
    "#         self.left = None\n",
    "#         self.right = None\n",
    "class Solution:\n",
    "    # 返回构造的TreeNode根节点\n",
    "    def reConstructBinaryTree(self, pre, tin):\n",
    "        # write code here\n",
    "        if not pre and not tin:\n",
    "            return None\n",
    "        root = head = TreeNode(pre[0])\n",
    "        index = tin.index(pre[0])\n",
    "        root.left = reConstructBinaryTree(pre[1:index+1],tin[:index])\n",
    "        root.right =reConstructBinaryTree(per[index+1:],tin[index+1:])\n",
    "        return root"
   ]
  },
  {
   "cell_type": "code",
   "execution_count": 30,
   "metadata": {},
   "outputs": [
    {
     "data": {
      "text/plain": [
       "0"
      ]
     },
     "execution_count": 30,
     "metadata": {},
     "output_type": "execute_result"
    }
   ],
   "source": [
    "a = [1,2,3,4]\n",
    "a.index(1)  # 返回下标  用于列表和字符串"
   ]
  },
  {
   "cell_type": "code",
   "execution_count": 31,
   "metadata": {},
   "outputs": [
    {
     "data": {
      "text/plain": [
       "-1"
      ]
     },
     "execution_count": 31,
     "metadata": {},
     "output_type": "execute_result"
    }
   ],
   "source": [
    "\"1234\".find(\"0\")  # 返回下标，如不存在，返回-1"
   ]
  },
  {
   "cell_type": "markdown",
   "metadata": {},
   "source": [
    "## 5.用两个栈实现队列 \n",
    "用两个栈来实现一个队列，完成队列的Push和Pop操作。 队列中的元素为int类型。\n",
    "\n",
    "\n",
    "解法：这一题还是挺难的，有两个栈stackA、stackB，A是入栈的，B是出栈的，入栈时，直接进入A即可，出栈时，先判断是否有元素，如果B没有元素，pop肯定报错，应该先将A中所有的元素压倒B里面，再pop最上面一个元素，如果B中有就直接pop出，就可以，这是最优的思路，两个栈实现了先进后出，在一起又实现了队列的先进先出。"
   ]
  },
  {
   "cell_type": "code",
   "execution_count": null,
   "metadata": {},
   "outputs": [],
   "source": [
    "# -*- coding:utf-8 -*-\n",
    "class Solution:\n",
    "    def __init__(self):\n",
    "        self.stackA = []\n",
    "        self.stackB = []\n",
    "    def push(self, node):\n",
    "        # write code here\n",
    "        self.stackA.append(node)\n",
    "    def pop(self):\n",
    "        # return xx\n",
    "        if self.stackB:   # 判定栈B不为空\n",
    "            return self.stackB.pop()\n",
    "        elif not self.stackA:\n",
    "            return None\n",
    "        elif:\n",
    "            while self.stackA:\n",
    "                self.stackB.append(self.stackA.pop())\n",
    "            return self.stackB.pop()"
   ]
  },
  {
   "cell_type": "markdown",
   "metadata": {},
   "source": [
    "## 6.旋转数组的最小数字\n",
    "把一个数组最开始的若干个元素搬到数组的末尾，我们称之为数组的旋转。 输入一个非减排序的数组的一个旋转，输出旋转数组的最小元素。 \n",
    "\n",
    "例如数组{3,4,5,1,2}为{1,2,3,4,5}的一个旋转，该数组的最小值为1。 \n",
    "\n",
    "NOTE：给出的所有元素都大于0，若数组大小为0，请返回0。"
   ]
  },
  {
   "cell_type": "markdown",
   "metadata": {},
   "source": [
    "**解答：**旋转数组[4,5,6,1,2,3]\n",
    "二分搜索法：两种情况  初始化min为最后一位list[-1]\n",
    "1. list[mid] > min 证明前面是比min大一个递增数列，真正的最小值可能在右边\n",
    "2. list[mid] < min 证明mid-最后是一个递增的数列，真正的最小值可能在左边"
   ]
  },
  {
   "cell_type": "code",
   "execution_count": 47,
   "metadata": {},
   "outputs": [
    {
     "data": {
      "text/plain": [
       "0"
      ]
     },
     "execution_count": 47,
     "metadata": {},
     "output_type": "execute_result"
    }
   ],
   "source": [
    "# -*- coding:utf-8 -*-\n",
    "class Solution:\n",
    "    def minNumberInRotateArray(self, rotateArray):\n",
    "        # write code here\n",
    "        min1 = rotateArray[-1]\n",
    "        left = 0\n",
    "        right = len(rotateArray) - 1\n",
    "        while left <= right:\n",
    "            mid = (right+left)//2\n",
    "            if rotateArray[mid] >= min1:\n",
    "                left = mid + 1\n",
    "            elif rotateArray[mid] <= min1:\n",
    "                min1 = rotateArray[mid]\n",
    "                right = mid -1            \n",
    "        return min1\n",
    "\n",
    "a = Solution()\n",
    "lyst = [3,4,5,8,0,1,2]\n",
    "b = a.minNumberInRotateArray(lyst)\n",
    "b"
   ]
  },
  {
   "cell_type": "code",
   "execution_count": 42,
   "metadata": {},
   "outputs": [
    {
     "data": {
      "text/plain": [
       "2"
      ]
     },
     "execution_count": 42,
     "metadata": {},
     "output_type": "execute_result"
    }
   ],
   "source": [
    "5//2"
   ]
  },
  {
   "cell_type": "code",
   "execution_count": 48,
   "metadata": {},
   "outputs": [],
   "source": [
    "\"\"\"\n",
    "leetcode\n",
    "题目：在旋转数组中搜索target\n",
    "\n",
    "假设按照升序排序的数组在预先未知的某个点上进行了旋转。\n",
    "\n",
    "( 例如，数组 [0,1,2,4,5,6,7] 可能变为 [4,5,6,7,0,1,2] )。\n",
    "\n",
    "搜索一个给定的目标值，如果数组中存在这个目标值，则返回它的索引，否则返回 -1 。\n",
    "\n",
    "你可以假设数组中不存在重复的元素。\n",
    "\n",
    "你的算法时间复杂度必须是 O(log n) 级别。\n",
    "\"\"\"\n",
    "class Solution:\n",
    "    def search(self, nums, target):\n",
    "        \"\"\"\n",
    "        :type nums: List[int]\n",
    "        :type target: int\n",
    "        :rtype: int\n",
    "        \"\"\"\n",
    "        # 使用二分搜索法  分三种情况：\n",
    "        # 1. mid的值与target相等，直接返回\n",
    "        # 2. nums[mid]大于等于nums[left] 说明前面一段仍是有序递增的，所以如果target< nums[mid]并且target>=nums[left]则将right变为mid-1,否则left变为mid+1\n",
    "        # 3. nums[mid]小于nums[left]说明前面一段已经出现分割，再根据target的值进行判断\n",
    "        left, right = 0, len(nums) - 1\n",
    "        while left <=right:\n",
    "            mid = (right-left) // 2 + left\n",
    "            if nums[mid] == target:\n",
    "                return mid\n",
    "            elif nums[mid] >= nums[left]:\n",
    "                if target < nums[mid] and target >= nums[left]:\n",
    "                    right = mid - 1\n",
    "                else:\n",
    "                    left = mid+1\n",
    "            else:\n",
    "                if target > nums[mid] and target <= nums[right]:\n",
    "                    left = mid + 1\n",
    "                else:\n",
    "                    right = mid - 1\n",
    "                    \n",
    "        return -1"
   ]
  },
  {
   "cell_type": "markdown",
   "metadata": {},
   "source": [
    "## 7. 斐波那契数列\n",
    "大家都知道斐波那契数列，现在要求输入一个整数n，请你输出斐波那契数列的第n项（从0开始，第0项为0）。\n",
    "n<=39"
   ]
  },
  {
   "cell_type": "markdown",
   "metadata": {},
   "source": [
    "**方法一：赋值法，复杂度为O（n）**"
   ]
  },
  {
   "cell_type": "code",
   "execution_count": null,
   "metadata": {},
   "outputs": [],
   "source": [
    "# -*- coding:utf-8 -*-\n",
    "class Solution:\n",
    "    def Fibonacci(self, n):\n",
    "        # write code here\n",
    "        # 0 1 1 2 3 5 8\n",
    "        if n == 0:\n",
    "            return 0\n",
    "        if n == 1:\n",
    "            return 1\n",
    "        a = 0\n",
    "        b = 1\n",
    "        while n >= 2:\n",
    "            res = a + b\n",
    "            a,b = b , res\n",
    "            n -= 1\n",
    "        return res"
   ]
  },
  {
   "cell_type": "markdown",
   "metadata": {},
   "source": [
    "**方法二：递归法**"
   ]
  },
  {
   "cell_type": "code",
   "execution_count": 3,
   "metadata": {},
   "outputs": [
    {
     "name": "stdout",
     "output_type": "stream",
     "text": [
      "2\n"
     ]
    }
   ],
   "source": [
    "# -*- coding:utf-8 -*-\n",
    "class Solution:\n",
    "    def Fibonacci(self, n):\n",
    "        # write code here\n",
    "        # 0 1 1 2 3 5 8\n",
    "        if n == 0:\n",
    "            return 0\n",
    "        if n == 1:\n",
    "            return 1\n",
    "       \n",
    "        return self.Fibonacci(n-1) + self.Fibonacci(n-2)\n",
    "n = 3\n",
    "a = Solution()\n",
    "b = a.Fibonacci(n)\n",
    "print(b)"
   ]
  },
  {
   "cell_type": "markdown",
   "metadata": {},
   "source": [
    "## 8. 跳台阶\n",
    "一只青蛙一次可以跳上1级台阶，也可以跳上2级。求该青蛙跳上一个n级的台阶总共有多少种跳法（先后次序不同算不同的结果）。\n",
    "\n",
    "思路：f(n) = f(n-1)+f(n-2)"
   ]
  },
  {
   "cell_type": "code",
   "execution_count": 1,
   "metadata": {},
   "outputs": [],
   "source": [
    "# 方法一： 也就是斐波那契数列\n",
    "# -*- coding:utf-8 -*-\n",
    "class Solution:\n",
    "    def jumpFloor(self, number):\n",
    "        # write code here\n",
    "        # f(n) = f(n-1)+f(n-2)\n",
    "        if number == 0:\n",
    "            return 0\n",
    "        if number == 1:\n",
    "            return 1\n",
    "        if number == 2:\n",
    "            return 2\n",
    "        a = 1\n",
    "        b = 2\n",
    "        while number > 2:\n",
    "            res = a + b\n",
    "            a,b = b,res\n",
    "            number -= 1\n",
    "        return res"
   ]
  },
  {
   "cell_type": "code",
   "execution_count": null,
   "metadata": {},
   "outputs": [],
   "source": [
    "# 方法二：和方法一一个思路，用列表呈现\n",
    "# -*- coding:utf-8 -*-\n",
    "class Solution:\n",
    "    def jumpFloor(self, number):\n",
    "        # write code here\n",
    "        res = [1,2]\n",
    "        while len(res) <= number:\n",
    "            res.append(res[-1]+res[-2])\n",
    "        if number == 1:\n",
    "            return 1\n",
    "        else:\n",
    "            return res[number-1]"
   ]
  },
  {
   "cell_type": "markdown",
   "metadata": {},
   "source": [
    "## 9.变态跳台阶\n",
    "一只青蛙一次可以跳上1级台阶，也可以跳上2级……它也可以跳上n级。求该青蛙跳上一个n级的台阶总共有多少种跳法。\n",
    "\n",
    "思路：f(n) = f(n-1)+f(n-2)+...+f(1)"
   ]
  },
  {
   "cell_type": "code",
   "execution_count": 4,
   "metadata": {},
   "outputs": [
    {
     "name": "stdout",
     "output_type": "stream",
     "text": [
      "4\n"
     ]
    }
   ],
   "source": [
    "# -*- coding:utf-8 -*-\n",
    "class Solution:\n",
    "    def jumpFloorII(self, number):\n",
    "        # write code here\n",
    "        res = [1,2]\n",
    "        while len(res) < number:\n",
    "            res.append(sum(res)+1)\n",
    "        if number == 1:\n",
    "            return 1\n",
    "        else:\n",
    "            return res[-1]\n",
    "        \n",
    "if __name__ == '__main__':\n",
    "    a = Solution()\n",
    "    print(a.jumpFloorII(3))"
   ]
  },
  {
   "cell_type": "code",
   "execution_count": null,
   "metadata": {},
   "outputs": [],
   "source": [
    "#方法二：f(n)=2**(n-1)\n",
    "# 1,2,4,8....\n",
    "# -*- coding:utf-8 -*-\n",
    "class Solution:\n",
    "    def jumpFloorII(self, number):\n",
    "        # write code here\n",
    "        return 2**(number-1)"
   ]
  },
  {
   "cell_type": "markdown",
   "metadata": {},
   "source": [
    "## 10.矩阵覆盖\n",
    "我们可以用2x1的小矩形横着或者竖着去覆盖更大的矩形。请问用n个2x1的小矩形无重叠地覆盖一个2xn的大矩形，总共有多少种方法？"
   ]
  },
  {
   "cell_type": "markdown",
   "metadata": {},
   "source": [
    "![image](矩阵覆盖.png)"
   ]
  },
  {
   "cell_type": "markdown",
   "metadata": {},
   "source": [
    "**解答：**　ｆ(n) = f(n-1)+f(n-2)"
   ]
  },
  {
   "cell_type": "code",
   "execution_count": null,
   "metadata": {},
   "outputs": [],
   "source": [
    "# -*- coding:utf-8 -*-\n",
    "class Solution:\n",
    "    def rectCover(self, number):\n",
    "        # write code here\n",
    "        res = [1,2]\n",
    "        while len(res) < number:\n",
    "            res.append(res[-1]+res[-2])\n",
    "        if number == 1:\n",
    "            return 1\n",
    "        elif number == 0:\n",
    "            return 0\n",
    "        else:\n",
    "            return res[-1]"
   ]
  },
  {
   "cell_type": "markdown",
   "metadata": {},
   "source": [
    "## 11. 二进制中1的个数\n",
    "输入一个整数，输出该数二进制表示中1的个数。其中负数用补码表示。\n",
    "\n",
    "额外补充：\n",
    "1. 原码就是符号位加上真值的绝对值， 即用第一位表示符号， 其余位表示值。\n",
    "2. 反码的表示方法是:正数的反码是其本身；负数的反码是在其原码的基础上， 符号位不变，其余各个位取反。\n",
    "3. 补码的表示方法是:正数的补码就是其本身；负数的补码是在其原码的基础上， 符号位不变， 其余各位取反， 最后+1。 (即在反码的基础上+1)\n"
   ]
  },
  {
   "cell_type": "markdown",
   "metadata": {},
   "source": [
    "**解法：**\n",
    "如果一个整数不为0，那么这个整数至少有一位是1。如果我们把这个整数减1，那么原来处在整数最右边的1就会变为0，原来在1后面的所有的0都会变成1(如果最右边的1后面还有0的话)。其余所有位将不会受到影响。\n",
    "\n",
    "举个例子：一个二进制数1100，从右边数起第三位是处于最右边的一个1。减去1后，第三位变成0，它后面的两位0变成了1，而前面的1保持不变，因此得到的结果是1011.我们发现减1的结果是把最右边的一个1开始的所有位都取反了。这个时候如果我们再把原来的整数和减去1之后的结果做与运算，从原来整数最右边一个1那一位开始所有位都会变成0。\n",
    "\n",
    "如**1100&1011=1000**.也就是说，把一个整数减去1，再和原整数做与运算，会把该整数最右边一个1变成0.那么一个整数的二进制有多少个1，就可以进行多少次这样的操作。\n",
    "\n",
    "但是负数使用补码表示的，对于负数，最高位为1，而负数在计算机是以补码存在的，往右移，符号位不变，符号位1往右移，最终可能会出现全1的情况，导致死循环。与0xffffffff相与，就可以消除负数的影响"
   ]
  },
  {
   "cell_type": "code",
   "execution_count": null,
   "metadata": {},
   "outputs": [],
   "source": [
    "# -*- coding:utf-8 -*-\n",
    "class Solution:\n",
    "    def NumberOf1(self, n):\n",
    "        # write code here\n",
    "        count = 0\n",
    "        if n < 0:\n",
    "            n = n & 0xffffffff\n",
    "        while n :\n",
    "            count += 1\n",
    "            n = n & (n-1)\n",
    "        return count"
   ]
  },
  {
   "cell_type": "code",
   "execution_count": 23,
   "metadata": {},
   "outputs": [
    {
     "data": {
      "text/plain": [
       "'0b11111111111111111111111111111111'"
      ]
     },
     "execution_count": 23,
     "metadata": {},
     "output_type": "execute_result"
    }
   ],
   "source": [
    "a = 0xffffffff\n",
    "bin(a)"
   ]
  },
  {
   "cell_type": "code",
   "execution_count": 21,
   "metadata": {},
   "outputs": [
    {
     "data": {
      "text/plain": [
       "3"
      ]
     },
     "execution_count": 21,
     "metadata": {},
     "output_type": "execute_result"
    }
   ],
   "source": [
    "int(\"11\",2)   #　二进制转十进制"
   ]
  },
  {
   "cell_type": "code",
   "execution_count": 7,
   "metadata": {},
   "outputs": [
    {
     "data": {
      "text/plain": [
       "'-0b10'"
      ]
     },
     "execution_count": 7,
     "metadata": {},
     "output_type": "execute_result"
    }
   ],
   "source": [
    "a = -2\n",
    "bin(a)"
   ]
  },
  {
   "cell_type": "markdown",
   "metadata": {},
   "source": [
    "## 12. 数值的整数次方\n",
    "给定一个double类型的浮点数base和int类型的整数exponent。求base的exponent次方。\n",
    "\n",
    "要想要特殊值0和负值。"
   ]
  },
  {
   "cell_type": "markdown",
   "metadata": {},
   "source": [
    "**方法1：**python 优势"
   ]
  },
  {
   "cell_type": "code",
   "execution_count": 25,
   "metadata": {},
   "outputs": [],
   "source": [
    "# -*- coding:utf-8 -*-\n",
    "class Solution:\n",
    "    def Power(self, base, exponent):\n",
    "        # write code here\n",
    "        return base**exponent"
   ]
  },
  {
   "cell_type": "markdown",
   "metadata": {},
   "source": [
    "**方法二：**二分法递归"
   ]
  },
  {
   "cell_type": "code",
   "execution_count": 36,
   "metadata": {},
   "outputs": [
    {
     "name": "stdout",
     "output_type": "stream",
     "text": [
      "0.125\n"
     ]
    }
   ],
   "source": [
    "# -*- coding:utf-8 -*-\n",
    "class Solution:\n",
    "    def Power(self, base, exponent):\n",
    "        # write code here        \n",
    "        \"\"\"\n",
    "        思路：一个个乘的话是On的复杂度，想也不想就知道一定会超时，不然这道题难度相当于1+1 = 2。\n",
    "\n",
    "        一般我们对On都优化为logn。这道题用二分的思想非常好做，因为有如下的关系：\n",
    "\n",
    "        如果n为偶数：\n",
    "\n",
    "        res = Pow(x, n/2)**2\n",
    "\n",
    "        如果n为奇数：\n",
    "\n",
    "        res = x*(Pow(x, n/2)**2)\n",
    "\n",
    "        根据这2个关系我们可以很容易写出递归解\n",
    "        \"\"\"\n",
    "        if exponent == 0:\n",
    "            return 1\n",
    "        if exponent == 1:\n",
    "            return base\n",
    "        if exponent < 0:\n",
    "            return 1.0/self.Power(base,-exponent)\n",
    "        # 若exponent为奇数\n",
    "        if exponent%2 == 1:\n",
    "            return base*self.Power(base*base,exponent//2) \n",
    "        else:\n",
    "            return self.Power(base*base,exponent//2)  \n",
    "        \n",
    "if __name__ == \"__main__\":\n",
    "    a = Solution()\n",
    "    b = a.Power(2.0,-3)\n",
    "    print(b)"
   ]
  },
  {
   "cell_type": "markdown",
   "metadata": {},
   "source": [
    "## 13.调整数组顺序使奇数位于偶数前面\n",
    "输入一个整数数组，实现一个函数来调整该数组中数字的顺序，使得所有的奇数位于数组的前半部分，所有的偶数位于数组的后半部分，并保证奇数和奇数，偶数和偶数之间的相对位置不变。"
   ]
  },
  {
   "cell_type": "code",
   "execution_count": 38,
   "metadata": {},
   "outputs": [
    {
     "name": "stdout",
     "output_type": "stream",
     "text": [
      "[1, 3, 5, 2, 4, 6]\n"
     ]
    }
   ],
   "source": [
    "# -*- coding:utf-8 -*-\n",
    "class Solution:\n",
    "    def reOrderArray(self, array):\n",
    "        # write code here\n",
    "        res = []\n",
    "        for i in array:\n",
    "            if i % 2 == 1:\n",
    "                res.append(i)\n",
    "        for i in array:\n",
    "            if i % 2 == 0:\n",
    "                res.append(i)\n",
    "        return res\n",
    "                \n",
    "if __name__ == \"__main__\":\n",
    "    a = Solution()\n",
    "    lyst = [1,2,3,4,5,6]\n",
    "    b = a.reOrderArray(lyst)\n",
    "    print(b)"
   ]
  },
  {
   "cell_type": "code",
   "execution_count": 39,
   "metadata": {},
   "outputs": [
    {
     "name": "stdout",
     "output_type": "stream",
     "text": [
      "[1, 3, 5, 2, 4, 6]\n"
     ]
    }
   ],
   "source": [
    "# -*- coding:utf-8 -*-\n",
    "class Solution:\n",
    "    def reOrderArray(self, array):\n",
    "        # write code here\n",
    "        res1 = []\n",
    "        res2 = []\n",
    "        for i in array:\n",
    "            if i % 2 == 0:\n",
    "                res1.append(i)\n",
    "            else:\n",
    "                res2.append(i)\n",
    "        return res2 + res1\n",
    "if __name__ == \"__main__\":\n",
    "    a = Solution()\n",
    "    lyst = [1,2,3,4,5,6]\n",
    "    b = a.reOrderArray(lyst)\n",
    "    print(b)"
   ]
  },
  {
   "cell_type": "markdown",
   "metadata": {},
   "source": [
    "**方法二:**类似快速排序,这个不能保证奇数和奇数，偶数和偶数之间的相对位置不变"
   ]
  },
  {
   "cell_type": "code",
   "execution_count": 40,
   "metadata": {},
   "outputs": [
    {
     "name": "stdout",
     "output_type": "stream",
     "text": [
      "[1, 5, 3, 4, 2, 6]\n"
     ]
    }
   ],
   "source": [
    "# -*- coding:utf-8 -*-\n",
    "class Solution:\n",
    "    def reOrderArray(self, array):\n",
    "        # write code here\n",
    "        if not array:\n",
    "            return []\n",
    "        left, right = 0, len(array)-1\n",
    "        while left < right:\n",
    "            while left<right and array[left] % 2 == 1:\n",
    "                left += 1\n",
    "            while left < right and array[right] % 2 == 0:\n",
    "                right -= 1\n",
    "            array[left],array[right] = array[right], array[left]\n",
    "        return array\n",
    "if __name__ == \"__main__\":\n",
    "    a = Solution()\n",
    "    lyst = [1,2,3,4,5,6]\n",
    "    b = a.reOrderArray(lyst)\n",
    "    print(b)"
   ]
  },
  {
   "cell_type": "markdown",
   "metadata": {},
   "source": [
    "## 14.链表中倒数第K个结点\n",
    "输入一个链表，输出该链表中倒数第k个结点。"
   ]
  },
  {
   "cell_type": "markdown",
   "metadata": {},
   "source": [
    "**方法一：**把所有链表都保存在列表中,然后取出倒数第K个"
   ]
  },
  {
   "cell_type": "code",
   "execution_count": null,
   "metadata": {},
   "outputs": [],
   "source": [
    "# -*- coding:utf-8 -*-\n",
    "# class ListNode:\n",
    "#     def __init__(self, x):\n",
    "#         self.val = x\n",
    "#         self.next = None\n",
    "\n",
    "class Solution:\n",
    "    def FindKthToTail(self, head, k):\n",
    "        # write code here\n",
    "        res = []\n",
    "        while head:\n",
    "            res.append(head)\n",
    "            head = head.next\n",
    "        if k > len(res) or k < 1:\n",
    "            return\n",
    "        return res[-k]"
   ]
  },
  {
   "cell_type": "markdown",
   "metadata": {},
   "source": [
    "**方法二：**\n",
    "寻找链表中倒数第k个节点，可以设置2个指针，让其中一个指针先走k-1步，\n",
    "\n",
    "然后两个指针同时移动。当先走的指针到达了链尾的时候，慢走的指针就是指向倒数第k个节点。"
   ]
  },
  {
   "cell_type": "code",
   "execution_count": 42,
   "metadata": {},
   "outputs": [],
   "source": [
    "# -*- coding:utf-8 -*-\n",
    "# class ListNode:\n",
    "#     def __init__(self, x):\n",
    "#         self.val = x\n",
    "#         self.next = None\n",
    "\n",
    "class Solution:\n",
    "    def FindKthToTail(self, head, k):\n",
    "        # write code here\n",
    "        head1 = head\n",
    "        head2 = head\n",
    "        if k < 1:  # K过小\n",
    "            return\n",
    "        try:\n",
    "            for i in range(1,k):\n",
    "                head2 = head2.next\n",
    "        except:\n",
    "            return\n",
    "        if head2 == None: # K值过大的情况\n",
    "            return\n",
    "        while head2.next:\n",
    "            head1 = head1.next\n",
    "            head2 = head2.next\n",
    "        return head1"
   ]
  },
  {
   "cell_type": "code",
   "execution_count": 43,
   "metadata": {},
   "outputs": [],
   "source": [
    "for i in range(5,1):\n",
    "    print(1)"
   ]
  },
  {
   "cell_type": "markdown",
   "metadata": {},
   "source": [
    "## 15. 反转链表\n",
    "输入一个链表，反转链表后，输出新链表的表头"
   ]
  },
  {
   "cell_type": "markdown",
   "metadata": {},
   "source": [
    "**解题思路：** 分N//2步，递归每次两个链表反转"
   ]
  },
  {
   "cell_type": "code",
   "execution_count": 44,
   "metadata": {},
   "outputs": [],
   "source": [
    "# -*- coding:utf-8 -*-\n",
    "# class ListNode:\n",
    "#     def __init__(self, x):\n",
    "#         self.val = x\n",
    "#         self.next = None\n",
    "class Solution:\n",
    "    # 返回ListNode\n",
    "    def ReverseList(self, pHead):\n",
    "        # write code here\n",
    "        def rev(finnal,node1,node2):\n",
    "            if node1 == None:\n",
    "                return finnal\n",
    "            node1.next = finnal\n",
    "            if node2 == None:\n",
    "                return node1\n",
    "            else:\n",
    "                if node2.next == None:\n",
    "                    node2.next = node1\n",
    "                    return node2\n",
    "                node3 = node2.next\n",
    "                node2.next = node1\n",
    "                return rev(node2,node3,node3.next)\n",
    "        if not pHead:\n",
    "            return \n",
    "        if not pHead.next:\n",
    "            return pHead\n",
    "        else:\n",
    "            return rev(None,pHead,pHead.next)"
   ]
  },
  {
   "cell_type": "markdown",
   "metadata": {},
   "source": [
    "**方法二：** 赋值法，显然比第一种简单"
   ]
  },
  {
   "cell_type": "code",
   "execution_count": 48,
   "metadata": {},
   "outputs": [
    {
     "name": "stdout",
     "output_type": "stream",
     "text": [
      "6 5 4 3 2 1 "
     ]
    }
   ],
   "source": [
    "# -*- coding:utf-8 -*-\n",
    "class ListNode:\n",
    "    def __init__(self, x):\n",
    "        self.val = x\n",
    "        self.next = None\n",
    "class Solution:\n",
    "    # 返回ListNode\n",
    "    def ReverseList(self, pHead):\n",
    "        # write code here\n",
    "        if not pHead or not pHead.next:\n",
    "            return pHead\n",
    "        pre = None \n",
    "        while pHead:\n",
    "            tmp = pHead.next\n",
    "            pHead.next = pre\n",
    "            pre = pHead # pre始终指向要反转节点的首节点\n",
    "            pHead = tmp\n",
    "        return pre\n",
    "    \n",
    "if __name__ == '__main__':\n",
    "    node1 = ListNode(1)\n",
    "    node2 = ListNode(2)\n",
    "    node3 = ListNode(3)\n",
    "    node4 = ListNode(4)\n",
    "    node5 = ListNode(5)\n",
    "    node6 = ListNode(6)\n",
    "\n",
    "    node1.next = node2\n",
    "    node2.next = node3\n",
    "    node3.next = node4\n",
    "    node4.next = node5\n",
    "    node5.next = node6\n",
    "    a = Solution()\n",
    "    pReversedHead = a.ReverseList(node1)\n",
    "\n",
    "    while pReversedHead:\n",
    "        print(pReversedHead.val,end=' ')\n",
    "        pReversedHead = pReversedHead.next"
   ]
  },
  {
   "cell_type": "markdown",
   "metadata": {},
   "source": [
    "## 16. 合并两个排序链表\n",
    "输入两个单调递增的链表，输出两个链表合成后的链表，当然我们需要合成后的链表满足单调不减规则。"
   ]
  },
  {
   "cell_type": "markdown",
   "metadata": {},
   "source": [
    "**方法一：**递归"
   ]
  },
  {
   "cell_type": "code",
   "execution_count": null,
   "metadata": {},
   "outputs": [],
   "source": [
    "# -*- coding:utf-8 -*-\n",
    "# class ListNode:\n",
    "#     def __init__(self, x):\n",
    "#         self.val = x\n",
    "#         self.next = None\n",
    "class Solution:\n",
    "    # 返回合并后列表\n",
    "    def Merge(self, pHead1, pHead2):\n",
    "        # write code here\n",
    "        if pHead1 == None:\n",
    "            return pHead2\n",
    "        elif pHead2 == None:\n",
    "            return pHead1\n",
    "        \n",
    "        mergepHead = None\n",
    "        if pHead1.val <= pHead2.val:\n",
    "            mergepHead = pHead1\n",
    "            mergepHead.next = self.Merge(pHead1.next,pHead2)\n",
    "        elif pHead1.val > pHead2.val:\n",
    "            mergepHead = pHead2\n",
    "            mergepHead.next = self.Merge(pHead1,pHead2.next)\n",
    "        return mergepHead"
   ]
  },
  {
   "cell_type": "markdown",
   "metadata": {},
   "source": [
    "**方法二：**循环"
   ]
  },
  {
   "cell_type": "code",
   "execution_count": 49,
   "metadata": {},
   "outputs": [],
   "source": [
    "# -*- coding:utf-8 -*-\n",
    "# class ListNode:\n",
    "#     def __init__(self, x):\n",
    "#         self.val = x\n",
    "#         self.next = None\n",
    "class Solution:\n",
    "    # 返回合并后列表\n",
    "    def Merge(self, pHead1, pHead2):\n",
    "        # write code here\n",
    "        dummy = ListNode(0)\n",
    "        pHead = dummy\n",
    "        \n",
    "        while pHead1 and pHead2:\n",
    "            if pHead1.val >= pHead2.val:\n",
    "                dummy.next = pHead2\n",
    "                pHead2 = pHead2.next\n",
    "            else:\n",
    "                dummy.next = pHead1\n",
    "                pHead1 = pHead1.next\n",
    "                \n",
    "            dummy = dummy.next\n",
    "        if pHead1 == None:\n",
    "            dummy.next = pHead2\n",
    "        elif pHead2 == None:\n",
    "            dummy.next = pHead1\n",
    "        return pHead.next"
   ]
  },
  {
   "cell_type": "markdown",
   "metadata": {},
   "source": [
    "## 17. 树的子结构\n",
    "输入两棵二叉树A，B，判断B是不是A的子结构。（ps：我们约定空树不是任意一个树的子结构）"
   ]
  },
  {
   "cell_type": "code",
   "execution_count": null,
   "metadata": {},
   "outputs": [],
   "source": [
    "# -*- coding:utf-8 -*-\n",
    "# class TreeNode:\n",
    "#     def __init__(self, x):\n",
    "#         self.val = x\n",
    "#         self.left = None\n",
    "#         self.right = None\n",
    "class Solution:\n",
    "    def HasSubtree(self, pRoot1, pRoot2):\n",
    "        # write code here\n",
    "        result = False\n",
    "        # 判断根节点\n",
    "        if pRoot1 != None and pRoot2 != None:\n",
    "            if pRoot1.val == pRoot2.val:\n",
    "                result = self.same(pRoot1,pRoot2)\n",
    "            if not result:\n",
    "                result = self.HasSubtree(pRoot1.left,pRoot2)\n",
    "            if not result:\n",
    "                result = self.HasSubtree(pRoot1.right,pRoot2)\n",
    "        return result\n",
    "    \n",
    "    def same(self,pRoot1,pRoot2):\n",
    "        if pRoot2 == None:\n",
    "            return True\n",
    "        if pRoot1 == None:\n",
    "            return False\n",
    "        # 这里不断判断下一个节点是否相等，递归\n",
    "        if pRoot1.val != pRoot2.val:\n",
    "            return False\n",
    "        return self.same(pRoot1.left,pRoot2.left) and self.same(pRoot1.right,pRoot2.right)"
   ]
  },
  {
   "cell_type": "markdown",
   "metadata": {},
   "source": [
    "## 18. 二叉树镜像\n",
    "操作给定的二叉树，将其变换为源二叉树的镜像。"
   ]
  },
  {
   "cell_type": "code",
   "execution_count": null,
   "metadata": {},
   "outputs": [],
   "source": [
    "# -*- coding:utf-8 -*-\n",
    "# class TreeNode:\n",
    "#     def __init__(self, x):\n",
    "#         self.val = x\n",
    "#         self.left = None\n",
    "#         self.right = None\n",
    "class Solution:\n",
    "    # 返回镜像树的根节点\n",
    "    def Mirror(self, root):\n",
    "        # write code here\n",
    "        if root == None:\n",
    "            return root\n",
    "        root.left,root.right = root.right,root.left\n",
    "        self.Mirror(root.left)\n",
    "        self.Mirror(root.right)\n",
    "        return root"
   ]
  },
  {
   "cell_type": "markdown",
   "metadata": {},
   "source": [
    "## 19. 顺时针打印矩阵\n",
    "输入一个矩阵，按照从外向里以顺时针的顺序依次打印出每一个数字，例如，如果输入如下4 X 4矩阵： 1 2 3 4 5 6 7 8 9 10 11 12 13 14 15 16 则依次打印出数字1,2,3,4,8,12,16,15,14,13,9,5,6,7,11,10."
   ]
  },
  {
   "cell_type": "code",
   "execution_count": null,
   "metadata": {},
   "outputs": [],
   "source": [
    "# -*- coding:utf-8 -*-\n",
    "class Solution:\n",
    "    # matrix类型为二维列表，需要返回列表\n",
    "    def printMatrix(self, matrix):\n",
    "        # write code here\n",
    "        result = []\n",
    "        while matrix:\n",
    "            result += matrix.pop(0)\n",
    "            if not matrix:\n",
    "                break\n",
    "            matrix = self.turn(matrix)  # 逆时针旋转矩阵\n",
    "        return result\n",
    "    \n",
    "    def turn(self,matrix):\n",
    "        newmat = []\n",
    "        row = len(matrix)\n",
    "        col = len(matrix[0])\n",
    "        for i in range(col,0,-1):\n",
    "            newmat1 = []\n",
    "            for j in range(row):\n",
    "                newmat1.append(matrix[j][i-1])\n",
    "            newmat.append(newmat1)\n",
    "        return newmat"
   ]
  },
  {
   "cell_type": "code",
   "execution_count": null,
   "metadata": {},
   "outputs": [],
   "source": []
  },
  {
   "cell_type": "code",
   "execution_count": 2,
   "metadata": {},
   "outputs": [
    {
     "name": "stdout",
     "output_type": "stream",
     "text": [
      "3\n",
      "2\n",
      "1\n"
     ]
    }
   ],
   "source": [
    "for i in range(3,0,-1):\n",
    "    print(i)"
   ]
  },
  {
   "cell_type": "markdown",
   "metadata": {},
   "source": [
    "## 20. 包含min函数的栈\n",
    "定义栈的数据结构，请在该类型中实现一个能够得到栈中所含最小元素的min函数（时间复杂度应为O（1））。"
   ]
  },
  {
   "cell_type": "code",
   "execution_count": 1,
   "metadata": {},
   "outputs": [],
   "source": [
    "# -*- coding:utf-8 -*-\n",
    "class Solution:\n",
    "    def __init__(self):\n",
    "        self.m_data = []  # 数据   \n",
    "        self.m_min = []  # 辅助栈  每次都是压入当前的最小值  和数据栈一样大小len\n",
    "    def push(self, node):\n",
    "        # write code here\n",
    "        self.m_data.append(node)\n",
    "        if len(self.m_min) == 0 or node < self.m_min[-1]:\n",
    "            self.m_min.append(node)\n",
    "        else:\n",
    "            self.m_min.append(self.m_min[-1])\n",
    "        \n",
    "    def pop(self):\n",
    "        # write code here\n",
    "        if len(self.m_data) or len(self.m_min):\n",
    "            self.m_data.pop()\n",
    "            self.m_min.pop()\n",
    "        else:\n",
    "            return\n",
    "        \n",
    "    def top(self):\n",
    "        # write code here\n",
    "        return self.m_data[-1]\n",
    "    def min(self):\n",
    "        # write code here\n",
    "        return self.m_min[-1]"
   ]
  },
  {
   "cell_type": "code",
   "execution_count": 1,
   "metadata": {},
   "outputs": [],
   "source": [
    "# -*- coding:utf-8 -*-\n",
    "class Solution:\n",
    "    def __init__(self):\n",
    "        self.stack = []\n",
    "        self.min_stack = []\n",
    "    def push(self, node):\n",
    "        # write code here\n",
    "        self.stack.append(node)\n",
    "        if len(self.min_stack) == 0 or node < self.min_stack[-1]:\n",
    "            self.min_stack.append(node)\n",
    "        else:\n",
    "            self.min_stack.append(self.min_stack[-1])\n",
    "    def pop(self):\n",
    "        # write code here\n",
    "        if len(self.stack) or len(self.min_stack):\n",
    "            self.stack.pop()\n",
    "            self.min_stack.pop()\n",
    "        else:\n",
    "            return \n",
    "    def top(self):\n",
    "        # write code here\n",
    "        return self.stack[-1]\n",
    "    def min(self):\n",
    "        # write code here\n",
    "        return self.min_stack[-1]"
   ]
  },
  {
   "cell_type": "markdown",
   "metadata": {},
   "source": [
    "## 21. 栈的圧入、弹出序列\n",
    "输入两个整数序列，第一个序列表示栈的压入顺序，请判断第二个序列是否可能为该栈的弹出顺序。假设压入栈的所有数字均不相等。例如序列1,2,3,4,5是某栈的压入顺序，序列4,5,3,2,1是该压栈序列对应的一个弹出序列，但4,3,5,1,2就不可能是该压栈序列的弹出序列。（注意：这两个序列的长度是相等的）"
   ]
  },
  {
   "cell_type": "markdown",
   "metadata": {},
   "source": [
    "**解法：**设置一个辅助栈，对它同时进行压入和弹出的操作\n",
    "\n",
    "先根据压入顺序一个个压入元素，其中每压入一个元素都要和弹出序列第一个元素比较，若相同则辅助栈弹出。"
   ]
  },
  {
   "cell_type": "code",
   "execution_count": 1,
   "metadata": {},
   "outputs": [],
   "source": [
    "# -*- coding:utf-8 -*-\n",
    "class Solution:\n",
    "    def IsPopOrder(self, pushV, popV):\n",
    "        # write code here\n",
    "        if not pushV and not popV:\n",
    "            return False\n",
    "        if len(pushV) != len(popV):\n",
    "            return False\n",
    "        stack = []  # 创建一个辅助栈\n",
    "        j = 0  # 用于控制popV的index\n",
    "        for i in pushV:\n",
    "            stack.append(i)\n",
    "            while stack and stack[-1] == popV[j]:\n",
    "                stack.pop()\n",
    "                j += 1\n",
    "        if stack:\n",
    "            return False\n",
    "        else:\n",
    "            return True"
   ]
  },
  {
   "cell_type": "markdown",
   "metadata": {},
   "source": [
    "## 22. 从上往下打印二叉树   （层序遍历）\n",
    "从上往下打印出二叉树的每个节点，同层节点从左至右打印。"
   ]
  },
  {
   "cell_type": "markdown",
   "metadata": {},
   "source": [
    "**解法：**广度优先层次遍历，利用一个队列来实现\n",
    "\n",
    "    层序遍历的基本过程是：\n",
    "    先根节点入队，然后：\n",
    "    1.从队列中取出一个元素\n",
    "    2.访问该元素所指的结点\n",
    "    3.若该元素所指结点的左、右孩子结点非空，则将其左、右孩子的指针顺序入队\n",
    "\n",
    "利用队列，首先将根节点放入队列中，取队列的首节点，把值存进列表，然后考虑左右指针，把指针放进列表，在存值"
   ]
  },
  {
   "cell_type": "code",
   "execution_count": 2,
   "metadata": {},
   "outputs": [],
   "source": [
    "# -*- coding:utf-8 -*-\n",
    "# class TreeNode:\n",
    "#     def __init__(self, x):\n",
    "#         self.val = x\n",
    "#         self.left = None\n",
    "#         self.right = None\n",
    "class Solution:\n",
    "    # 返回从上到下每个节点值列表，例：[1,2,3]\n",
    "    def PrintFromTopToBottom(self, root):\n",
    "        # write code here\n",
    "        if not root:\n",
    "            return []\n",
    "        queue = []\n",
    "        result = []\n",
    "        \n",
    "        queue.append(root)\n",
    "        while len(queue)>0:\n",
    "            node = queue.pop(0)\n",
    "            result.append(node.val)\n",
    "            if node.left:\n",
    "                queue.append(node.left)\n",
    "            if node.right:\n",
    "                queue.append(node.right)\n",
    "        return result"
   ]
  },
  {
   "cell_type": "markdown",
   "metadata": {},
   "source": [
    "## 23. 二叉搜索树的后序遍历\n",
    "输入一个整数数组，判断该数组是不是某二叉搜索树的后序遍历的结果。如果是则输出Yes,否则输出No。假设输入的数组的任意两个数字都互不相同。"
   ]
  },
  {
   "cell_type": "markdown",
   "metadata": {},
   "source": [
    "**解法：**\n",
    "\n",
    "二叉搜索树即是二叉排序树\n",
    "1. 后序遍历序列的最后一个元素为二叉树的根节点；\n",
    "2. 二叉搜索树左子树上所有的结点均小于根结点、右子树所有的结点均大于根结点。\n",
    "\n",
    "算法步骤如下：\n",
    "1. 找到根结点；\n",
    "2. 遍历序列，找到第一个大于等于根结点的元素i，则i左侧为左子树、i右侧为右子树；\n",
    "3. 我们已经知道i左侧所有元素均小于根结点，那么再依次遍历右侧，看是否所有元素均大于根结点；若出现小于根结点的元素，则直接返回false；若右侧全都大于根结点，则：\n",
    "4. 分别递归判断左/右子序列是否为后序序列；"
   ]
  },
  {
   "cell_type": "code",
   "execution_count": 3,
   "metadata": {},
   "outputs": [],
   "source": [
    "# -*- coding:utf-8 -*-\n",
    "class Solution:\n",
    "    def VerifySquenceOfBST(self, sequence):\n",
    "        # write code here\n",
    "        if not sequence:\n",
    "            return False\n",
    "        root = sequence[-1]   # 后序遍历，根节点在最后\n",
    "        \n",
    "        # 左子树\n",
    "        i = 0\n",
    "        for node in sequence[:-1]:\n",
    "            if node > root:\n",
    "                break\n",
    "            i += 1\n",
    "        # 右子树\n",
    "        for node in sequence[i:-1]:\n",
    "            if node < root:\n",
    "                return False \n",
    "        # 判断左子树是不是二叉搜索树\n",
    "        left = True\n",
    "        # 当进行到此步，说明sequence不为空，当数组的元素只有1个的时候，不进入判断，返回的left为True\n",
    "        if i > 0:\n",
    "            left = self.VerifySquenceOfBST(sequence[:i])\n",
    "        # 判断右子树是不是二叉搜索树\n",
    "        right = True\n",
    "        if i<len(sequence)-1 and left:\n",
    "            right = self.VerifySquenceOfBST(sequence[i:-1])\n",
    "            \n",
    "        return left and right"
   ]
  },
  {
   "cell_type": "markdown",
   "metadata": {},
   "source": [
    "## 24.二叉树中和为某个值的路径\n",
    "输入一颗二叉树的跟节点和一个整数，打印出二叉树中结点值的和为输入整数的所有路径。路径定义为从树的根结点开始往下一直到叶结点所经过的结点形成一条路径。(注意: 在返回值的list中，数组长度大的数组靠前)"
   ]
  },
  {
   "cell_type": "markdown",
   "metadata": {},
   "source": [
    "**解法1：**深度优先"
   ]
  },
  {
   "cell_type": "code",
   "execution_count": 4,
   "metadata": {},
   "outputs": [],
   "source": [
    "# -*- coding:utf-8 -*-\n",
    "# class TreeNode:\n",
    "#     def __init__(self, x):\n",
    "#         self.val = x\n",
    "#         self.left = None\n",
    "#         self.right = None\n",
    "class Solution:\n",
    "    # 返回二维列表，内部每个列表表示找到的路径\n",
    "    def FindPath(self, root, expectNumber):\n",
    "        # write code here  \n",
    "        def helper(root,expectNumber,value,res):\n",
    "            if root == None:\n",
    "                return         \n",
    "            value.append(root.val)\n",
    "            if not root.left and not root.right and root.val==expectNumber: \n",
    "                res.append(value+[])\n",
    "            else:\n",
    "                helper(root.left,expectNumber-root.val,value+[],res)   # type(list)  value is value+[] : False\n",
    "                helper(root.right,expectNumber-root.val,value+[],res)\n",
    "            return res\n",
    "        \n",
    "        res = []\n",
    "        value = []\n",
    "        helper(root,expectNumber,value,res)\n",
    "        return res"
   ]
  },
  {
   "cell_type": "markdown",
   "metadata": {},
   "source": [
    "**解法2：**\n",
    "\n",
    "    递归先序遍历树， 把结点加入路径。使用列表结构存树结构\n",
    "    若该结点是叶子结点则比较当前路径和是否等于期待和，叶子节点说明该路径应该截止了\n",
    "    弹出结点，每一轮递归返回到父结点时，当前路径也应该回退一个结点。"
   ]
  },
  {
   "cell_type": "code",
   "execution_count": 6,
   "metadata": {},
   "outputs": [],
   "source": [
    "# -*- coding:utf-8 -*-\n",
    "# class TreeNode:\n",
    "#     def __init__(self, x):\n",
    "#         self.val = x\n",
    "#         self.left = None\n",
    "#         self.right = None\n",
    "class Solution:\n",
    "    # 返回二维列表，内部每个列表表示找到的路径\n",
    "    def FindPath(self, root, expectNumber):\n",
    "        # write code here \n",
    "        if not root:\n",
    "            return []\n",
    "        res = []\n",
    "        \n",
    "        def helper(root,path,currentNum):\n",
    "            currentNum += root.val\n",
    "            # root使用append转成了列表，因为最后要一个序列，root本身还是树结构\n",
    "            path.append(root)\n",
    "            # 判断是不是到叶子节点了，到叶子节点了就要判断值的和是不是相等\n",
    "            flag = root.left == None and root.right == None\n",
    "            # 返回值是一个等于整数的序列\n",
    "            if currentNum == expectNumber and flag:\n",
    "                onepath = []\n",
    "                for node in path:\n",
    "                    onepath.append(node.val)\n",
    "                res.append(onepath)\n",
    "            if currentNum < expectNumber:  # 默认所有结点都为正数，可以改成 ！=  这样就通用负数\n",
    "                if root.left:\n",
    "                    helper(root.left,path,currentNum)\n",
    "                if root.right:\n",
    "                    helper(root.right,path,currentNum)\n",
    "            # 拿到一个正确的路径后要弹出，回到上一次父节点继续递归\n",
    "            path.pop()\n",
    "            \n",
    "        helper(root,[],0)\n",
    "        return result"
   ]
  },
  {
   "cell_type": "markdown",
   "metadata": {},
   "source": [
    "## 25. 复杂链表的复制\n",
    "输入一个复杂链表（每个节点中有节点值，以及两个指针，一个指向下一个节点，另一个特殊指针指向任意一个节点），返回结果为复制后复杂链表的head。（注意，输出结果中请不要返回参数中的节点引用，否则判题程序会直接返回空）"
   ]
  },
  {
   "cell_type": "markdown",
   "metadata": {},
   "source": [
    "**解法：**\n",
    "\n",
    "1. 根据旧链表创建新链表，不去管随机的那个指针\n",
    "2. 根据旧链表中的随机指针，创建新链表中的随机指针\n",
    "3. 从旧链表中拆分得到新链表"
   ]
  },
  {
   "cell_type": "code",
   "execution_count": null,
   "metadata": {},
   "outputs": [],
   "source": [
    "# -*- coding:utf-8 -*-\n",
    "# class RandomListNode:\n",
    "#     def __init__(self, x):\n",
    "#         self.label = x\n",
    "#         self.next = None\n",
    "#         self.random = None\n",
    "class Solution:\n",
    "    # 返回 RandomListNode\n",
    "    def Clone(self, pHead):\n",
    "        # write code here\n",
    "        if pHead == None:\n",
    "            return None\n",
    "        self.CloneNodes(pHead)\n",
    "        self.ConnectRandomNodes(pHead)\n",
    "        return self.ReconnectNodes(pHead)\n",
    "    \n",
    "    # 复制原始链表的每个结点, 将复制的结点链接在其原始结点的后面\n",
    "    # 变成了：(1 复制的1 2 复制的2 3 复制的3 ....)\n",
    "    def CloneNodes(self,pHead):\n",
    "        pNode = pHead\n",
    "        while pNode:\n",
    "            pCloned = RandomListNode(0)\n",
    "            pCloned.label = pNode.label\n",
    "            pCloned.next = pNode.next\n",
    "            pNode.next = pCloned\n",
    "            pNode = pCloned.next\n",
    "            \n",
    "    # 将复制后的链表中的复制结点的random指针链接到被复制结点random指针的后一个结点\n",
    "    def ConnectRandomNodes(self,pHead):\n",
    "        pNode = pHead\n",
    "        while pNode:\n",
    "            pCloned = pNode.next\n",
    "            if pNode.random != None:\n",
    "                pCloned.random = pNode.random.next  # 注意，这个random.next指向复制random的链表结点\n",
    "            pNode = pCloned.next\n",
    "    \n",
    "    \n",
    "    # 拆分链表, 将原始链表的结点组成新的链表, 复制结点组成复制后的链表\n",
    "    def ReconnectNodes(self,pHead):\n",
    "        pNode = pHead\n",
    "        pClonedHead = pClonedNode = pHead.next\n",
    "        pNode.next = pClonedHead.next\n",
    "        pNode = pNode.next\n",
    "        \n",
    "        while pNode:\n",
    "            pClonedNode.next = pNode.next\n",
    "            pClonedNode = pClonedNode.next\n",
    "            pNode.next = pClonedNode.next\n",
    "            pNode = pNode.next\n",
    "            \n",
    "        return pClonedHead"
   ]
  },
  {
   "cell_type": "markdown",
   "metadata": {},
   "source": [
    "**解法二：**哈希表，时间复杂度是O(n)，空间复杂度是O(n)"
   ]
  },
  {
   "cell_type": "code",
   "execution_count": null,
   "metadata": {},
   "outputs": [],
   "source": [
    "# -*- coding:utf-8 -*-\n",
    "# class RandomListNode:\n",
    "#     def __init__(self, x):\n",
    "#         self.label = x\n",
    "#         self.next = None\n",
    "#         self.random = None\n",
    "class Solution:\n",
    "    # 返回 RandomListNode\n",
    "    def Clone(self, pHead):\n",
    "        # write code here\n",
    "        if not isinstance(pHead,RandomListNode):\n",
    "            return\n",
    "        p1 = pHead\n",
    "        p2 = RandomListNode(p1.label)\n",
    "        Hash = {p1:p2}\n",
    "        p1 = p1.next\n",
    "        Clone_Head = p2\n",
    "        # 首先复制一个一样的链表，除了pSibling，并放入Hash表中\n",
    "        while p1:\n",
    "            p2.next = RandomListNode(p1.label)\n",
    "            Hash[p1] = p2.next\n",
    "            p1 = p1.next\n",
    "            p2 = p2.next\n",
    "        # 构建p2的random\n",
    "        p1,p2 = pHead,Clone_Head\n",
    "        while p1:\n",
    "            if p1.random:\n",
    "                p2.random = Hash[p1.random]\n",
    "            p1 = p1.next\n",
    "            p2 = p2.next\n",
    "        return Clone_Head"
   ]
  },
  {
   "cell_type": "code",
   "execution_count": 8,
   "metadata": {},
   "outputs": [
    {
     "data": {
      "text/plain": [
       "{<__main__.ListNode at 0x7fa6ec152cf8>: 23}"
      ]
     },
     "execution_count": 8,
     "metadata": {},
     "output_type": "execute_result"
    }
   ],
   "source": [
    "class ListNode:\n",
    "    def __init__(self, x):\n",
    "        self.label = x\n",
    "        self.next = None\n",
    "        self.random = None\n",
    "        \n",
    "a = ListNode(0)\n",
    "{a:23}"
   ]
  },
  {
   "cell_type": "markdown",
   "metadata": {},
   "source": [
    "## 26. 二叉搜索树与双向链表\n",
    "输入一棵二叉搜索树，将该二叉搜索树转换成一个排序的双向链表。要求不能创建任何新的结点，只能调整树中结点指针的指向。"
   ]
  },
  {
   "cell_type": "markdown",
   "metadata": {},
   "source": [
    "**解法：**\n",
    "\n",
    "由于输入的一个二叉搜索树，其左子树大于右子树的值，这位后面的排序做了准备，因为只需要中序遍历即可，将所有\n",
    "的节点保存到一个列表，。对这个list[:-1]进行遍历，每个节点的right设为下一个节点，下一个节点的left设为上一个节点。"
   ]
  },
  {
   "cell_type": "code",
   "execution_count": 9,
   "metadata": {},
   "outputs": [],
   "source": [
    "# -*- coding:utf-8 -*-\n",
    "# class TreeNode:\n",
    "#     def __init__(self, x):\n",
    "#         self.val = x\n",
    "#         self.left = None\n",
    "#         self.right = None\n",
    "class Solution:\n",
    "    def Convert(self, pRootOfTree):\n",
    "        # write code here\n",
    "        if not pRootOfTree:\n",
    "            return\n",
    "        self.attr = []    # 这种逻辑关系决定midorder函数不能在调用过Convert函数之前单独调用\n",
    "        self.midorder(pRootOfTree)\n",
    "        for i, v in enumerate(self.attr[:-1]):\n",
    "            v.right = self.attr[i+1]\n",
    "            self.attr[i+1].left = v\n",
    "        return self.attr[0]\n",
    "    def midorder(self,root):\n",
    "        if not root:\n",
    "            return\n",
    "        self.midorder(root.left)\n",
    "        self.attr.append(root)\n",
    "        self.midorder(root.right)"
   ]
  },
  {
   "cell_type": "markdown",
   "metadata": {},
   "source": [
    "## 27.字符串的排列\n",
    "输入一个字符串,按字典序打印出该字符串中字符的所有排列。例如输入字符串abc,则打印出由字符a,b,c所能排列出来的所有字符串abc,acb,bac,bca,cab和cba。\n",
    "\n",
    "输入一个字符串,长度不超过9(可能有字符重复),字符只包括大小写字母。"
   ]
  },
  {
   "cell_type": "code",
   "execution_count": null,
   "metadata": {},
   "outputs": [],
   "source": [
    "# -*- coding:utf-8 -*-\n",
    "class Solution:\n",
    "    def Permutation(self, ss):\n",
    "        # write code here"
   ]
  },
  {
   "cell_type": "code",
   "execution_count": null,
   "metadata": {},
   "outputs": [],
   "source": []
  },
  {
   "cell_type": "code",
   "execution_count": null,
   "metadata": {},
   "outputs": [],
   "source": []
  },
  {
   "cell_type": "code",
   "execution_count": null,
   "metadata": {},
   "outputs": [],
   "source": []
  },
  {
   "cell_type": "code",
   "execution_count": null,
   "metadata": {},
   "outputs": [],
   "source": []
  },
  {
   "cell_type": "code",
   "execution_count": null,
   "metadata": {},
   "outputs": [],
   "source": []
  },
  {
   "cell_type": "code",
   "execution_count": null,
   "metadata": {},
   "outputs": [],
   "source": []
  },
  {
   "cell_type": "code",
   "execution_count": null,
   "metadata": {},
   "outputs": [],
   "source": []
  },
  {
   "cell_type": "code",
   "execution_count": null,
   "metadata": {},
   "outputs": [],
   "source": []
  },
  {
   "cell_type": "code",
   "execution_count": null,
   "metadata": {},
   "outputs": [],
   "source": []
  }
 ],
 "metadata": {
  "kernelspec": {
   "display_name": "Python 3",
   "language": "python",
   "name": "python3"
  },
  "language_info": {
   "codemirror_mode": {
    "name": "ipython",
    "version": 3
   },
   "file_extension": ".py",
   "mimetype": "text/x-python",
   "name": "python",
   "nbconvert_exporter": "python",
   "pygments_lexer": "ipython3",
   "version": "3.7.0"
  }
 },
 "nbformat": 4,
 "nbformat_minor": 2
}
